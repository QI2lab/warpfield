{
 "cells": [
  {
   "cell_type": "code",
   "execution_count": null,
   "id": "0",
   "metadata": {},
   "outputs": [],
   "source": [
    "import numpy as np\n",
    "import warpfield\n",
    "import warpfield.utils"
   ]
  },
  {
   "cell_type": "code",
   "execution_count": null,
   "id": "1",
   "metadata": {},
   "outputs": [],
   "source": [
    "# download some example data (see https://github.com/andreasmang/nirep)\n",
    "!wget https://github.com/andreasmang/nirep/raw/refs/heads/master/nifti/na01.nii.gz\n",
    "!wget https://github.com/andreasmang/nirep/raw/refs/heads/master/nifti/na15.nii.gz"
   ]
  },
  {
   "cell_type": "code",
   "execution_count": null,
   "id": "2",
   "metadata": {},
   "outputs": [],
   "source": [
    "# load data\n",
    "fixed, _ = warpfield.load_data(\"na01.nii.gz\")\n",
    "moving, _ = warpfield.load_data(\"na15.nii.gz\")"
   ]
  },
  {
   "cell_type": "code",
   "execution_count": null,
   "id": "3",
   "metadata": {},
   "outputs": [],
   "source": [
    "# create a basic recipe with one affine registration level and a default pre-filter:\n",
    "recipe = warpfield.Recipe()\n",
    "recipe.pre_filter.clip_thresh = 0  # clip DC background, if present\n",
    "\n",
    "# affine level properties\n",
    "recipe.levels[0].smooth.sigmas = [2.0, 2.0, 2.0] # raised sigma to slow convergence & dampen oscillations\n",
    "recipe.levels[0].repeat = 10\n",
    "\n",
    "# add non-rigid registration levels:\n",
    "recipe.add_level(block_size=[128, 128, 128])\n",
    "recipe.levels[-1].smooth.sigmas = [1.0, 1.0, 1.0]\n",
    "recipe.levels[-1].repeat = 5\n",
    "\n",
    "recipe.add_level(block_size=[64, 64, 64])\n",
    "recipe.levels[-1].block_stride = 0.5\n",
    "recipe.levels[-1].smooth.sigmas = [1.0, 1.0, 1.0]\n",
    "recipe.levels[-1].repeat = 5\n",
    "\n",
    "recipe.add_level(block_size=[32, 32, 32])\n",
    "recipe.levels[-1].block_stride = 0.5\n",
    "recipe.levels[-1].smooth.sigmas = [2.0, 2.0, 2.0]\n",
    "recipe.levels[-1].repeat = 10"
   ]
  },
  {
   "cell_type": "code",
   "execution_count": null,
   "id": "4",
   "metadata": {},
   "outputs": [],
   "source": [
    "# register (without video)\n",
    "moving_reg, warpmap, _ = warpfield.register_volumes_with_video(fixed, moving, recipe)"
   ]
  },
  {
   "cell_type": "code",
   "execution_count": null,
   "id": "5",
   "metadata": {},
   "outputs": [],
   "source": [
    "# register (with MIP video)\n",
    "video_path = \"output.mp4\"\n",
    "units_per_voxel = [1,1,1]\n",
    "moving_reg, warpmap, _ = warpfield.register_volumes_with_video(fixed, moving, recipe, video_fn=video_path, units_per_voxel=units_per_voxel)\n",
    "warpfield.utils.showvid(video_path, embed=True)"
   ]
  },
  {
   "cell_type": "code",
   "execution_count": null,
   "id": "6",
   "metadata": {},
   "outputs": [],
   "source": [
    "# register (with slice video)\n",
    "video_path = \"output.mp4\"\n",
    "vmax = np.percentile(recipe.pre_filter(fixed), 99)\n",
    "callback = warpfield.utils.mosaic_callback(vmax=vmax, axis=1, num_slices=9)\n",
    "moving_reg, warpmap, _ = warpfield.register_volumes_with_video(\n",
    "    fixed, moving, recipe, video_fn=video_path, callback=callback, units_per_voxel=units_per_voxel\n",
    ")\n",
    "warpfield.utils.showvid(video_path, embed=True)"
   ]
  },
  {
   "cell_type": "code",
   "execution_count": null,
   "id": "7",
   "metadata": {},
   "outputs": [],
   "source": []
  },
  {
   "cell_type": "code",
   "execution_count": null,
   "id": "8",
   "metadata": {},
   "outputs": [],
   "source": []
  }
 ],
 "metadata": {
  "kernelspec": {
   "display_name": "warpfield",
   "language": "python",
   "name": "python3"
  },
  "language_info": {
   "codemirror_mode": {
    "name": "ipython",
    "version": 3
   },
   "file_extension": ".py",
   "mimetype": "text/x-python",
   "name": "python",
   "nbconvert_exporter": "python",
   "pygments_lexer": "ipython3",
   "version": "3.10.17"
  }
 },
 "nbformat": 4,
 "nbformat_minor": 5
}
